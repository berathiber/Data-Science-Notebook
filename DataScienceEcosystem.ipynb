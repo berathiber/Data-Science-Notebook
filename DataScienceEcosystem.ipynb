{
 "cells": [
  {
   "cell_type": "markdown",
   "id": "22eb6064-a939-4494-9133-79071b304f5a",
   "metadata": {},
   "source": [
    "# Data Science Tools and Ecosystem"
   ]
  },
  {
   "cell_type": "markdown",
   "id": "19c08ba2-632c-4e3c-a52e-6852f84340ce",
   "metadata": {},
   "source": [
    "#### In this notebook, Data Science Tools and Ecosystem are summarized."
   ]
  },
  {
   "cell_type": "markdown",
   "id": "1a4a3bf9-6a04-463a-ba84-a346335a8d79",
   "metadata": {},
   "source": [
    "Some of the popular languages that Data Scientists use are:\n",
    "1. Python  \n",
    "2. R  \n",
    "3. SQL"
   ]
  },
  {
   "cell_type": "markdown",
   "id": "14e3669a-ee4b-4252-918b-b46abccc1d98",
   "metadata": {},
   "source": [
    "Some of the commonly used libraries used by Data Scientists include:\n",
    "\n",
    "- **NumPy** – for numerical computations\n",
    "- **pandas** – for data manipulation and analysis\n",
    "- **matplotlib** – for data visualization\n",
    "- **seaborn** – for statistical data visualization\n",
    "- **scikit-learn** – for machine learning\n",
    "- **TensorFlow** – for deep learning\n",
    "- **Keras** – high-level neural networks API\n",
    "- **PyTorch** – deep learning framework\n",
    "- **statsmodels** – for statistical modeling"
   ]
  },
  {
   "cell_type": "markdown",
   "id": "0540a01d-7ff9-4af8-8802-2ff9a83a3367",
   "metadata": {},
   "source": [
    "| Data Science Tools |\n",
    "|--------------------|\n",
    "|Jupyter Notebook|\n",
    "|RStudio|\n",
    "|Apache Zeppelin|\n",
    "|Spyder|\n",
    "|Visual Studio Code|"
   ]
  },
  {
   "cell_type": "markdown",
   "id": "61239192-41f8-4308-b984-0a160a569b60",
   "metadata": {},
   "source": [
    "### Below are a few examples of evaluating arithmetic expressions in Python"
   ]
  },
  {
   "cell_type": "code",
   "execution_count": 2,
   "id": "122d90e7-eb14-438b-9548-faf4f65301d5",
   "metadata": {},
   "outputs": [
    {
     "data": {
      "text/plain": [
       "17"
      ]
     },
     "execution_count": 2,
     "metadata": {},
     "output_type": "execute_result"
    }
   ],
   "source": [
    "# This is a simple arithmetic expression to multiply then add integers\n",
    "(3 * 4) + 5"
   ]
  },
  {
   "cell_type": "code",
   "execution_count": 3,
   "id": "e56a6b9f-9025-4269-8464-9aa90da62870",
   "metadata": {},
   "outputs": [
    {
     "data": {
      "text/plain": [
       "3.3333333333333335"
      ]
     },
     "execution_count": 3,
     "metadata": {},
     "output_type": "execute_result"
    }
   ],
   "source": [
    "# This will convert 200 minutes to hours by dividing by 60\n",
    "200 / 60"
   ]
  },
  {
   "cell_type": "markdown",
   "id": "6a8aa2a4-296b-47e7-bdfc-97db73629322",
   "metadata": {},
   "source": [
    "**Objectives:**\n",
    "\n",
    "- List popular languages for Data Science  \n",
    "- Identify commonly used libraries by Data Scientists  \n",
    "- Create and format Markdown cells  \n",
    "- Perform basic arithmetic operations in code cells  \n",
    "- Convert values using Python expressions (e.g., minutes to hours)"
   ]
  },
  {
   "cell_type": "markdown",
   "id": "e33cba88-8507-4e8c-b025-a7c68b94f4cd",
   "metadata": {},
   "source": [
    "## Author  \n",
    "Obada Hiber"
   ]
  },
  {
   "cell_type": "code",
   "execution_count": null,
   "id": "bda5f151-c49d-419d-b717-8efe11aa734c",
   "metadata": {},
   "outputs": [],
   "source": []
  }
 ],
 "metadata": {
  "kernelspec": {
   "display_name": "Python 3 (ipykernel)",
   "language": "python",
   "name": "python3"
  },
  "language_info": {
   "codemirror_mode": {
    "name": "ipython",
    "version": 3
   },
   "file_extension": ".py",
   "mimetype": "text/x-python",
   "name": "python",
   "nbconvert_exporter": "python",
   "pygments_lexer": "ipython3",
   "version": "3.12.8"
  }
 },
 "nbformat": 4,
 "nbformat_minor": 5
}
